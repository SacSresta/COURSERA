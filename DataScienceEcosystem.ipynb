{
 "cells": [
  {
   "cell_type": "markdown",
   "id": "d0f5edda-4fad-4b1c-9201-d124168ab268",
   "metadata": {},
   "source": [
    "# Data Science Tools and Ecosystem"
   ]
  },
  {
   "cell_type": "markdown",
   "id": "21489825-1fdf-4178-8333-9fa45d3308da",
   "metadata": {},
   "source": [
    "In this notebook, Data Science Tools and Ecosystem are summarized.\n"
   ]
  },
  {
   "cell_type": "markdown",
   "id": "870ec38f-392b-40d4-b849-3224a17a73c9",
   "metadata": {},
   "source": [
    "**Objectives:**\r\n",
    "\r\n",
    "- List popular languages for Data Science\r\n",
    "- Introduce commonly used libraries in Data Science\r\n",
    "- Explore development environment tools for Data Science\r\n",
    "- Create a table of Data Science tools\r\n",
    "- Provide examples of evaluating arithmetic expressions in Python\r\n"
   ]
  },
  {
   "cell_type": "markdown",
   "id": "4a2daad9-5fd7-4f89-ad17-f6e0b00a7585",
   "metadata": {},
   "source": [
    "Some of the popular languages that Data Scientists use are:\n",
    "\n",
    "1. Python\n",
    "2. R\n",
    "3. Julia"
   ]
  },
  {
   "cell_type": "markdown",
   "id": "25cbe04b-06f2-4e38-8323-7b8e8d6b895d",
   "metadata": {},
   "source": [
    "Some of the commonly used libraries used by Data Scientists include:\n",
    "\n",
    "1. NumPy\n",
    "2. Pandas\n",
    "3. Scikit-learn"
   ]
  },
  {
   "cell_type": "markdown",
   "id": "902fffa5-3b22-4851-8fdf-37cb8985fa39",
   "metadata": {},
   "source": [
    "| Data Science Tools |\n",
    "|---------------------|\n",
    "| Jupyter Notebooks   |\n",
    "| RStudio             |\n",
    "| VS Code             |\n",
    "\n",
    "### Below are a few examples of evaluating arithmetic expressions in Python\r\n"
   ]
  },
  {
   "cell_type": "code",
   "execution_count": 3,
   "id": "324fcf31-905f-478a-904b-980fe24c5189",
   "metadata": {},
   "outputs": [
    {
     "data": {
      "text/plain": [
       "17"
      ]
     },
     "execution_count": 3,
     "metadata": {},
     "output_type": "execute_result"
    }
   ],
   "source": [
    "#This a simple arithmetic expression to mutiply then add integer\n",
    "\n",
    "(3*4) + 5\n",
    "\n"
   ]
  },
  {
   "cell_type": "code",
   "execution_count": 4,
   "id": "18c72f45-2e94-43e4-87ec-f9fee12f21f3",
   "metadata": {},
   "outputs": [
    {
     "name": "stdout",
     "output_type": "stream",
     "text": [
      "3.3333333333333335\n"
     ]
    }
   ],
   "source": [
    "#This will convert 200 minutes to hours by diving by 60\n",
    "minute = 200\n",
    "Hour = minute/60\n",
    "print(Hour)"
   ]
  },
  {
   "cell_type": "markdown",
   "id": "1431eecc-6e63-4683-9202-0e84b77475de",
   "metadata": {},
   "source": [
    "## Author\n",
    "\n",
    "Sacheen Shrestha"
   ]
  },
  {
   "cell_type": "code",
   "execution_count": null,
   "id": "6766a75b-f356-4772-84f9-1a69a7fb827f",
   "metadata": {},
   "outputs": [],
   "source": []
  }
 ],
 "metadata": {
  "kernelspec": {
   "display_name": "Python 3 (ipykernel)",
   "language": "python",
   "name": "python3"
  },
  "language_info": {
   "codemirror_mode": {
    "name": "ipython",
    "version": 3
   },
   "file_extension": ".py",
   "mimetype": "text/x-python",
   "name": "python",
   "nbconvert_exporter": "python",
   "pygments_lexer": "ipython3",
   "version": "3.11.5"
  }
 },
 "nbformat": 4,
 "nbformat_minor": 5
}
